{
 "cells": [
  {
   "cell_type": "markdown",
   "metadata": {},
   "source": [
    "## TUGAS BESAR KULIAH SISTEM PENGUKURAN BERBASIS CITRA\n",
    "Nama :  Ronggur Mahendra Widya Putra\n",
    "\n",
    "NIM  :  13519008"
   ]
  },
  {
   "cell_type": "code",
   "execution_count": 48,
   "metadata": {},
   "outputs": [],
   "source": [
    "# Import Library\n",
    "import tensorflow as tf\n",
    "\n",
    "from tensorflow.keras import datasets, layers, models\n",
    "import tensorflow_datasets as tfds\n",
    "import matplotlib.pyplot as plt\n",
    "import cv2 \n",
    "import os\n",
    "import numpy as np\n",
    "import scipy\n",
    "from skimage import color, data, restoration\n",
    "from tensorflow.keras.preprocessing.image import ImageDataGenerator\n",
    "from random import uniform\n",
    "from tensorflow.keras.layers import BatchNormalization"
   ]
  },
  {
   "cell_type": "markdown",
   "metadata": {},
   "source": [
    "# Loading Data dari folder ./Data/ClassifiedData"
   ]
  },
  {
   "cell_type": "code",
   "execution_count": 21,
   "metadata": {},
   "outputs": [
    {
     "name": "stdout",
     "output_type": "stream",
     "text": [
      "Found 3525 files belonging to 24 classes.\n",
      "Using 3173 files for training.\n",
      "Found 3525 files belonging to 24 classes.\n",
      "Using 352 files for validation.\n",
      "Found 312 files belonging to 24 classes.\n"
     ]
    }
   ],
   "source": [
    "\n",
    "ClassifiedDataDir = \"./Data/ClassifiedData/Train\"\n",
    "BATCH_SIZE = 32 \n",
    "IMG_SIZE = (128, 128)\n",
    "train_dataset = tf.keras.utils.image_dataset_from_directory(\n",
    "    directory = ClassifiedDataDir,\n",
    "        labels='inferred',\n",
    "        label_mode='int',\n",
    "        class_names=None,\n",
    "        color_mode='rgb',\n",
    "        batch_size=BATCH_SIZE,\n",
    "        image_size=IMG_SIZE,\n",
    "        shuffle=True,\n",
    "        seed=1337,\n",
    "        subset=\"training\",\n",
    "        validation_split=0.1,\n",
    "        interpolation='bilinear',\n",
    "        follow_links=False,\n",
    "        crop_to_aspect_ratio=False,\n",
    "        # rescale = 1./255,\n",
    "    )\n",
    "validation_dataset = tf.keras.utils.image_dataset_from_directory(\n",
    "    directory = ClassifiedDataDir,\n",
    "        labels='inferred',\n",
    "        label_mode='int',\n",
    "        class_names=None,\n",
    "        color_mode='rgb',\n",
    "        batch_size=BATCH_SIZE,\n",
    "        image_size=IMG_SIZE,\n",
    "        shuffle=True,\n",
    "        seed=1337,\n",
    "        subset=\"validation\",\n",
    "        validation_split=0.1,\n",
    "        interpolation='bilinear',\n",
    "        follow_links=False,\n",
    "        crop_to_aspect_ratio=False,\n",
    "        # rescale = 1./255,\n",
    "    )\n",
    "\n",
    "    \n",
    "test_dataset = tf.keras.utils.image_dataset_from_directory(\n",
    "    directory = \"./Data/ClassifiedData/Test\",\n",
    "        labels='inferred',\n",
    "        label_mode='int',\n",
    "        class_names=None,\n",
    "        color_mode='rgb',\n",
    "        batch_size=BATCH_SIZE,\n",
    "        image_size=IMG_SIZE,\n",
    "        shuffle=True,\n",
    "        seed=None,\n",
    "        interpolation='bilinear',\n",
    "        follow_links=False,\n",
    "        crop_to_aspect_ratio=False,\n",
    "        # rescale = 1./255,\n",
    "    )"
   ]
  },
  {
   "cell_type": "markdown",
   "metadata": {},
   "source": [
    "List Class"
   ]
  },
  {
   "cell_type": "code",
   "execution_count": 22,
   "metadata": {},
   "outputs": [
    {
     "name": "stdout",
     "output_type": "stream",
     "text": [
      "['A', 'B', 'C', 'D', 'E', 'F', 'G', 'H', 'I', 'K', 'L', 'M', 'N', 'O', 'P', 'Q', 'R', 'S', 'T', 'U', 'V', 'W', 'X', 'Y']\n",
      "24\n"
     ]
    }
   ],
   "source": [
    "# for element in dataset.as_numpy_iterator():\n",
    "#     print(element)\n",
    "class_names = train_dataset.class_names\n",
    "print(class_names)\n",
    "print(len(class_names))"
   ]
  },
  {
   "cell_type": "code",
   "execution_count": 23,
   "metadata": {},
   "outputs": [],
   "source": [
    "# print('Number of training batches: %d' % tf.data.experimental.cardinality(train_dataset).numpy())\n",
    "# print('Number of validation batches: %d' % tf.data.experimental.cardinality(validation_dataset).numpy())"
   ]
  },
  {
   "cell_type": "markdown",
   "metadata": {},
   "source": [
    "# Optimization buffer untuk Dataset"
   ]
  },
  {
   "cell_type": "code",
   "execution_count": 24,
   "metadata": {},
   "outputs": [],
   "source": [
    "# DataSet\n",
    "AUTOTUNE = tf.data.AUTOTUNE\n",
    "train_dataset = train_dataset.prefetch(buffer_size=AUTOTUNE)\n",
    "validation_dataset = validation_dataset.prefetch(buffer_size=AUTOTUNE)\n",
    "test_dataset = test_dataset.prefetch(buffer_size=AUTOTUNE)"
   ]
  },
  {
   "cell_type": "markdown",
   "metadata": {},
   "source": [
    "Model 1"
   ]
  },
  {
   "cell_type": "code",
   "execution_count": 47,
   "metadata": {},
   "outputs": [],
   "source": [
    "# # # Model 1 Initialize\n",
    "# input_size = 128\n",
    "# filter_size = 14\n",
    "# num_filter = 8\n",
    "# maxpool_size = 2\n",
    "# batch_size = BATCH_SIZE\n",
    "# epochs = 30\n",
    "\n",
    "# model1 = tf.keras.models.Sequential([\n",
    "#     tf.keras.layers.InputLayer(input_shape=(input_size, input_size, 3)),\n",
    "#     tf.keras.layers.Reshape((256, 256 * 3)),\n",
    "#     tf.keras.layers.Bidirectional(tf.keras.layers.LSTM( 256, return_sequences=True, return_state=False )),\n",
    "#     tf.keras.layers.Bidirectional(tf.keras.layers.LSTM( 256 )),\n",
    "#     tf.keras.layers.Dense( 256 ),\n",
    "#     tf.keras.layers.Dropout(.2),\n",
    "#     tf.keras.layers.Dense( 256 ),\n",
    "# ])\n",
    "\n",
    "# # model = models.Sequential()\n",
    "# # model.add(layers.Conv2D(32, (3, 3), activation='relu', input_shape=(input_size, input_size, 3)))\n",
    "# # model.add(layers.MaxPooling2D((2, 2)))\n",
    "# # model.add(layers.Conv2D(64, (3, 3), activation='relu'))\n",
    "# # model.add(layers.MaxPooling2D((2, 2)))\n",
    "# # model.add(layers.Conv2D(64, (3, 3), activation='relu'))\n",
    "\n",
    "# model1.add(tf.keras.layers.Flatten())\n",
    "# # model.add(tf.keras.layers.Dense(24))\n",
    "# model1.add(tf.keras.layers.Dense(24, activation = 'softmax'))\n",
    "\n",
    "# # model.add(layers.Flatten())\n",
    "# # model.add(layers.Dense(64, activation='relu'))\n",
    "# # model.add(layers.Dense(24))\n",
    "\n",
    "# model1.summary()"
   ]
  },
  {
   "cell_type": "code",
   "execution_count": 26,
   "metadata": {},
   "outputs": [],
   "source": [
    "# # Optimizer\n",
    "# optimizer = tf.keras.optimizers.Nadam(\n",
    "#     learning_rate=0.00001, beta_1=0.9, beta_2=0.999, epsilon=1e-07,\n",
    "#     name='Nadam'\n",
    "# ) # 0.00001\n",
    "\n",
    "# # Loss Fn\n",
    "# lossfn = tf.keras.losses.SparseCategoricalCrossentropy( from_logits=False, reduction=tf.keras.losses.Reduction.AUTO, name='sparse_categorical_crossentropy')\n",
    "\n",
    "# # Model Summary\n",
    "# model.compile(\n",
    "#     optimizer=\"rmsprop\",\n",
    "#     loss=\"sparse_categorical_crossentropy\",\n",
    "#     metrics=[\"sparse_categorical_accuracy\"],\n",
    "# )"
   ]
  },
  {
   "cell_type": "markdown",
   "metadata": {},
   "source": [
    "# Creating CNN Model "
   ]
  },
  {
   "cell_type": "code",
   "execution_count": 27,
   "metadata": {},
   "outputs": [],
   "source": [
    "# Model 2\n",
    "\n",
    "input_size = 128\n",
    "filter_size = 3\n",
    "num_filter = 8\n",
    "maxpool_size = 2\n",
    "batch_size = BATCH_SIZE\n",
    "epochs = 30\n",
    "\n",
    "steps_per_epoch = 24720/batch_size\n",
    "\n",
    "model = tf.keras.models.Sequential()\n",
    "model.add(tf.keras.layers.Conv2D(16, (filter_size,filter_size), \n",
    "                 input_shape= (input_size,input_size,3), \n",
    "                 activation ='relu',\n",
    "                 padding='same'))\n",
    "model.add(tf.keras.layers.Conv2D(16, (filter_size,filter_size), \n",
    "                 input_shape= (input_size,input_size,3), \n",
    "                 activation ='relu',\n",
    "                 padding='same'))\n",
    "model.add(tf.keras.layers.MaxPooling2D(pool_size=(maxpool_size, maxpool_size),strides=1))\n",
    "model.add(tf.keras.layers.Dropout(uniform(0, 1)))\n",
    "\n",
    "model.add(tf.keras.layers.Conv2D(32, (filter_size,filter_size), \n",
    "                 activation='relu', \n",
    "                 padding='valid'))\n",
    "model.add(tf.keras.layers.Conv2D(32, (filter_size,filter_size), \n",
    "                 activation='relu', \n",
    "                 padding='valid'))\n",
    "model.add(BatchNormalization())\n",
    "model.add(tf.keras.layers.MaxPooling2D(pool_size=(maxpool_size, maxpool_size),strides=2))\n",
    "model.add(tf.keras.layers.Dropout(uniform(0, 1)))  \n",
    "\n",
    "model.add(tf.keras.layers.Conv2D(32, (filter_size,filter_size), \n",
    "                 activation='relu', \n",
    "                 padding='valid'))\n",
    "model.add(tf.keras.layers.Conv2D(32, (filter_size,filter_size), \n",
    "                 activation='relu', \n",
    "                 padding='valid'))\n",
    "model.add(BatchNormalization())\n",
    "model.add(tf.keras.layers.MaxPooling2D(pool_size=(maxpool_size, maxpool_size),strides=2))\n",
    "model.add(tf.keras.layers.Dropout(uniform(0, 1)))  \n",
    "\n",
    "model.add(tf.keras.layers.Flatten())\n",
    "model.add(tf.keras.layers.Dense(120, activation='relu'))\n",
    "model.add(tf.keras.layers.Dense(24,activation='softmax'))\n"
   ]
  },
  {
   "cell_type": "code",
   "execution_count": 28,
   "metadata": {},
   "outputs": [
    {
     "name": "stdout",
     "output_type": "stream",
     "text": [
      "Model: \"sequential_1\"\n",
      "_________________________________________________________________\n",
      " Layer (type)                Output Shape              Param #   \n",
      "=================================================================\n",
      " conv2d_6 (Conv2D)           (None, 128, 128, 16)      448       \n",
      "                                                                 \n",
      " conv2d_7 (Conv2D)           (None, 128, 128, 16)      2320      \n",
      "                                                                 \n",
      " max_pooling2d_3 (MaxPooling  (None, 127, 127, 16)     0         \n",
      " 2D)                                                             \n",
      "                                                                 \n",
      " dropout_3 (Dropout)         (None, 127, 127, 16)      0         \n",
      "                                                                 \n",
      " conv2d_8 (Conv2D)           (None, 125, 125, 32)      4640      \n",
      "                                                                 \n",
      " conv2d_9 (Conv2D)           (None, 123, 123, 32)      9248      \n",
      "                                                                 \n",
      " batch_normalization_2 (Batc  (None, 123, 123, 32)     128       \n",
      " hNormalization)                                                 \n",
      "                                                                 \n",
      " max_pooling2d_4 (MaxPooling  (None, 61, 61, 32)       0         \n",
      " 2D)                                                             \n",
      "                                                                 \n",
      " dropout_4 (Dropout)         (None, 61, 61, 32)        0         \n",
      "                                                                 \n",
      " conv2d_10 (Conv2D)          (None, 59, 59, 32)        9248      \n",
      "                                                                 \n",
      " conv2d_11 (Conv2D)          (None, 57, 57, 32)        9248      \n",
      "                                                                 \n",
      " batch_normalization_3 (Batc  (None, 57, 57, 32)       128       \n",
      " hNormalization)                                                 \n",
      "                                                                 \n",
      " max_pooling2d_5 (MaxPooling  (None, 28, 28, 32)       0         \n",
      " 2D)                                                             \n",
      "                                                                 \n",
      " dropout_5 (Dropout)         (None, 28, 28, 32)        0         \n",
      "                                                                 \n",
      " flatten_1 (Flatten)         (None, 25088)             0         \n",
      "                                                                 \n",
      " dense_2 (Dense)             (None, 120)               3010680   \n",
      "                                                                 \n",
      " dense_3 (Dense)             (None, 24)                2904      \n",
      "                                                                 \n",
      "=================================================================\n",
      "Total params: 3,048,992\n",
      "Trainable params: 3,048,864\n",
      "Non-trainable params: 128\n",
      "_________________________________________________________________\n"
     ]
    }
   ],
   "source": [
    "METRICS = [ 'accuracy']#, 'precision','recall']\n",
    "model.compile( optimizer= tf.keras.optimizers.Adam(lr=0.001),loss='sparse_categorical_crossentropy',metrics=METRICS)\n",
    "\n",
    "model.summary()"
   ]
  },
  {
   "cell_type": "markdown",
   "metadata": {},
   "source": [
    "# Makingsure Training using GPU"
   ]
  },
  {
   "cell_type": "code",
   "execution_count": 29,
   "metadata": {},
   "outputs": [
    {
     "name": "stdout",
     "output_type": "stream",
     "text": [
      "True\n",
      "[PhysicalDevice(name='/physical_device:GPU:0', device_type='GPU')]\n",
      "Num GPUs Available:  1\n"
     ]
    }
   ],
   "source": [
    "print(tf.test.is_built_with_cuda())\n",
    "print(tf.config.list_physical_devices('GPU')) \n",
    "print(\"Num GPUs Available: \", len(tf.config.list_physical_devices('GPU')))"
   ]
  },
  {
   "cell_type": "markdown",
   "metadata": {},
   "source": [
    "# Training"
   ]
  },
  {
   "cell_type": "code",
   "execution_count": 30,
   "metadata": {},
   "outputs": [
    {
     "name": "stdout",
     "output_type": "stream",
     "text": [
      "Epoch 1/30\n",
      "100/100 [==============================] - 8s 69ms/step - loss: 3.7018 - accuracy: 0.1210 - val_loss: 19.0571 - val_accuracy: 0.0511\n",
      "Epoch 2/30\n",
      "100/100 [==============================] - 7s 70ms/step - loss: 2.1337 - accuracy: 0.3325 - val_loss: 14.2802 - val_accuracy: 0.1477\n",
      "Epoch 3/30\n",
      "100/100 [==============================] - 8s 72ms/step - loss: 1.4926 - accuracy: 0.5317 - val_loss: 2.2757 - val_accuracy: 0.4830\n",
      "Epoch 4/30\n",
      "100/100 [==============================] - 8s 73ms/step - loss: 0.8629 - accuracy: 0.7182 - val_loss: 3.0339 - val_accuracy: 0.5227\n",
      "Epoch 5/30\n",
      "100/100 [==============================] - 8s 73ms/step - loss: 0.5989 - accuracy: 0.7945 - val_loss: 12.5601 - val_accuracy: 0.1733\n",
      "Epoch 6/30\n",
      "100/100 [==============================] - 8s 75ms/step - loss: 0.4056 - accuracy: 0.8544 - val_loss: 9.9583 - val_accuracy: 0.2670\n",
      "Epoch 7/30\n",
      "100/100 [==============================] - 8s 77ms/step - loss: 0.3230 - accuracy: 0.8951 - val_loss: 8.1203 - val_accuracy: 0.3011\n",
      "Epoch 8/30\n",
      "100/100 [==============================] - 8s 80ms/step - loss: 0.2675 - accuracy: 0.9171 - val_loss: 0.8034 - val_accuracy: 0.7500\n",
      "Epoch 9/30\n",
      "100/100 [==============================] - 8s 78ms/step - loss: 0.2010 - accuracy: 0.9354 - val_loss: 0.7667 - val_accuracy: 0.7983\n",
      "Epoch 10/30\n",
      "100/100 [==============================] - 8s 75ms/step - loss: 0.1977 - accuracy: 0.9392 - val_loss: 1.3063 - val_accuracy: 0.6705\n",
      "Epoch 11/30\n",
      "100/100 [==============================] - 8s 75ms/step - loss: 0.2042 - accuracy: 0.9382 - val_loss: 1.2486 - val_accuracy: 0.7273\n",
      "Epoch 12/30\n",
      "100/100 [==============================] - 8s 75ms/step - loss: 0.1601 - accuracy: 0.9499 - val_loss: 0.5626 - val_accuracy: 0.8324\n",
      "Epoch 13/30\n",
      "100/100 [==============================] - 8s 75ms/step - loss: 0.1331 - accuracy: 0.9581 - val_loss: 0.9256 - val_accuracy: 0.7358\n",
      "Epoch 14/30\n",
      "100/100 [==============================] - 8s 75ms/step - loss: 0.1202 - accuracy: 0.9634 - val_loss: 1.4013 - val_accuracy: 0.6420\n",
      "Epoch 15/30\n",
      "100/100 [==============================] - 8s 76ms/step - loss: 0.1233 - accuracy: 0.9638 - val_loss: 0.7337 - val_accuracy: 0.8295\n",
      "Epoch 16/30\n",
      "100/100 [==============================] - 8s 76ms/step - loss: 0.1327 - accuracy: 0.9587 - val_loss: 1.1404 - val_accuracy: 0.7784\n",
      "Epoch 17/30\n",
      "100/100 [==============================] - 8s 77ms/step - loss: 0.1318 - accuracy: 0.9628 - val_loss: 0.8612 - val_accuracy: 0.8040\n",
      "Epoch 18/30\n",
      "100/100 [==============================] - 8s 76ms/step - loss: 0.1076 - accuracy: 0.9660 - val_loss: 2.7944 - val_accuracy: 0.6449\n",
      "Epoch 19/30\n",
      "100/100 [==============================] - 8s 76ms/step - loss: 0.0864 - accuracy: 0.9723 - val_loss: 2.8514 - val_accuracy: 0.6449\n",
      "Epoch 20/30\n",
      "100/100 [==============================] - 8s 76ms/step - loss: 0.0746 - accuracy: 0.9729 - val_loss: 0.1848 - val_accuracy: 0.9574\n",
      "Epoch 21/30\n",
      "100/100 [==============================] - 8s 78ms/step - loss: 0.1082 - accuracy: 0.9675 - val_loss: 4.1118 - val_accuracy: 0.4517\n",
      "Epoch 22/30\n",
      "100/100 [==============================] - 8s 78ms/step - loss: 0.0945 - accuracy: 0.9697 - val_loss: 2.9749 - val_accuracy: 0.5597\n",
      "Epoch 23/30\n",
      "100/100 [==============================] - 8s 75ms/step - loss: 0.0646 - accuracy: 0.9801 - val_loss: 6.3521 - val_accuracy: 0.3523\n",
      "Epoch 24/30\n",
      "100/100 [==============================] - 8s 77ms/step - loss: 0.0713 - accuracy: 0.9748 - val_loss: 11.6890 - val_accuracy: 0.2358\n",
      "Epoch 25/30\n",
      "100/100 [==============================] - 8s 81ms/step - loss: 0.0651 - accuracy: 0.9776 - val_loss: 6.2285 - val_accuracy: 0.3494\n",
      "Epoch 26/30\n",
      "100/100 [==============================] - 8s 79ms/step - loss: 0.0851 - accuracy: 0.9760 - val_loss: 1.5400 - val_accuracy: 0.7585\n",
      "Epoch 27/30\n",
      "100/100 [==============================] - 8s 79ms/step - loss: 0.0496 - accuracy: 0.9849 - val_loss: 1.5441 - val_accuracy: 0.7614\n",
      "Epoch 28/30\n",
      "100/100 [==============================] - 8s 79ms/step - loss: 0.0703 - accuracy: 0.9798 - val_loss: 8.9021 - val_accuracy: 0.2841\n",
      "Epoch 29/30\n",
      "100/100 [==============================] - 8s 80ms/step - loss: 0.0542 - accuracy: 0.9833 - val_loss: 7.8091 - val_accuracy: 0.3068\n",
      "Epoch 30/30\n",
      "100/100 [==============================] - 8s 77ms/step - loss: 0.0571 - accuracy: 0.9817 - val_loss: 1.2181 - val_accuracy: 0.8011\n"
     ]
    }
   ],
   "source": [
    "# Training\n",
    "history = model.fit(    \n",
    "    train_dataset,\n",
    "    epochs=30,\n",
    "    validation_data = (validation_dataset)\n",
    "    )\n"
   ]
  },
  {
   "cell_type": "code",
   "execution_count": 31,
   "metadata": {},
   "outputs": [
    {
     "name": "stdout",
     "output_type": "stream",
     "text": [
      "10/10 [==============================] - 1s 15ms/step - loss: 0.6346 - accuracy: 0.8910\n",
      "0.6345966458320618 0.8910256624221802\n"
     ]
    }
   ],
   "source": [
    "loss, acc = model.evaluate(test_dataset)\n",
    "print(loss, acc)"
   ]
  },
  {
   "cell_type": "markdown",
   "metadata": {},
   "source": [
    "# Saving model to load later"
   ]
  },
  {
   "cell_type": "code",
   "execution_count": 49,
   "metadata": {},
   "outputs": [
    {
     "name": "stderr",
     "output_type": "stream",
     "text": [
      "WARNING:absl:Found untraced functions such as _jit_compiled_convolution_op, _jit_compiled_convolution_op, _jit_compiled_convolution_op, _jit_compiled_convolution_op, _jit_compiled_convolution_op while saving (showing 5 of 6). These functions will not be directly callable after loading.\n"
     ]
    },
    {
     "name": "stdout",
     "output_type": "stream",
     "text": [
      "INFO:tensorflow:Assets written to: saved_model/FinalModel\\assets\n"
     ]
    },
    {
     "name": "stderr",
     "output_type": "stream",
     "text": [
      "INFO:tensorflow:Assets written to: saved_model/FinalModel\\assets\n"
     ]
    }
   ],
   "source": [
    "model.save('saved_model/FinalModel')"
   ]
  },
  {
   "cell_type": "markdown",
   "metadata": {},
   "source": [
    "## Model's Performance"
   ]
  },
  {
   "cell_type": "code",
   "execution_count": 45,
   "metadata": {},
   "outputs": [
    {
     "name": "stdout",
     "output_type": "stream",
     "text": [
      "Train accuracy: 98.17%\n",
      "Test accuracy: 89.10%\n"
     ]
    }
   ],
   "source": [
    "TrainingAccuracy = history.history['accuracy'][len(history.history['accuracy'])-1]\n",
    "print(\"Train accuracy: {:5.2f}%\".format(100 * TrainingAccuracy))\n",
    "print(\"Test accuracy: {:5.2f}%\".format(100 * acc))"
   ]
  },
  {
   "cell_type": "markdown",
   "metadata": {},
   "source": [
    "# Training History"
   ]
  },
  {
   "cell_type": "code",
   "execution_count": 35,
   "metadata": {},
   "outputs": [
    {
     "data": {
      "text/plain": [
       "<matplotlib.legend.Legend at 0x224ea73adc0>"
      ]
     },
     "execution_count": 35,
     "metadata": {},
     "output_type": "execute_result"
    },
    {
     "data": {
      "image/png": "[encoded data removed]",
      "text/plain": [
       "<Figure size 432x288 with 1 Axes>"
      ]
     },
     "metadata": {
      "needs_background": "light"
     },
     "output_type": "display_data"
    }
   ],
   "source": [
    "plt.plot(history.history['accuracy'], label='accuracy')\n",
    "plt.plot(history.history['val_accuracy'], label = 'val_accuracy')\n",
    "plt.xlabel('Epoch')\n",
    "plt.ylabel('Accuracy')\n",
    "plt.ylim([0.5, 1])\n",
    "plt.legend(loc='lower right')\n",
    "\n",
    "# test_loss, test_acc = model.evaluate(test_images,  test_labels, verbose=2)"
   ]
  }
 ],
 "metadata": {
  "interpreter": {
   "hash": "a6fa6954ade73bba0c808e45fb6e3f3b51cdc4ac8ab9c110f2c0fbb65783927d"
  },
  "kernelspec": {
   "display_name": "Python 3 (ipykernel)",
   "language": "python",
   "name": "python3"
  },
  "language_info": {
   "codemirror_mode": {
    "name": "ipython",
    "version": 3
   },
   "file_extension": ".py",
   "mimetype": "text/x-python",
   "name": "python",
   "nbconvert_exporter": "python",
   "pygments_lexer": "ipython3",
   "version": "3.7.6"
  }
 },
 "nbformat": 4,
 "nbformat_minor": 2
}

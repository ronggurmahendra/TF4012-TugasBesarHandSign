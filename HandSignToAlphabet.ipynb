{
 "cells": [
  {
   "cell_type": "code",
   "execution_count": 43,
   "metadata": {},
   "outputs": [],
   "source": [
    "# Import Library\n",
    "import tensorflow as tf\n",
    "\n",
    "from tensorflow.keras import datasets, layers, models\n",
    "import tensorflow_datasets as tfds\n",
    "import matplotlib.pyplot as plt\n",
    "import cv2 \n",
    "import os\n",
    "import numpy as np\n",
    "import scipy\n",
    "from skimage import color, data, restoration\n",
    "from tensorflow.keras.preprocessing.image import ImageDataGenerator\n",
    "from random import uniform\n",
    "from tensorflow.keras.layers import BatchNormalization"
   ]
  },
  {
   "cell_type": "code",
   "execution_count": 44,
   "metadata": {},
   "outputs": [],
   "source": [
    "# #Load Image\n",
    "\n",
    "# images = []\n",
    "# folder = \"./Data/Images\"\n",
    "# for filename in os.listdir(folder):\n",
    "#     img = cv2.imread(os.path.join(folder,filename))\n",
    "#     if img is not None:\n",
    "#         images.append(img)\n",
    "def get_dataset_partitions_tf(ds, ds_size, train_split=0.8, val_split=0.1, test_split=0.1, shuffle=True, shuffle_size=10000):\n",
    "    assert (train_split + test_split + val_split) == 1\n",
    "    \n",
    "    if shuffle:\n",
    "        # Specify seed to always have the same split distribution between runs\n",
    "        ds = ds.shuffle(shuffle_size, seed=12)\n",
    "    \n",
    "    train_size = int(train_split * ds_size)\n",
    "    val_size = int(val_split * ds_size)\n",
    "    \n",
    "    train_ds = ds.take(train_size)    \n",
    "    val_ds = ds.skip(train_size).take(val_size)\n",
    "    test_ds = ds.skip(train_size).skip(val_size)\n",
    "    \n",
    "    return train_ds, val_ds, test_ds"
   ]
  },
  {
   "cell_type": "code",
   "execution_count": 45,
   "metadata": {},
   "outputs": [
    {
     "name": "stdout",
     "output_type": "stream",
     "text": [
      "Found 3525 files belonging to 24 classes.\n",
      "Using 3173 files for training.\n",
      "Found 3525 files belonging to 24 classes.\n",
      "Using 352 files for validation.\n",
      "Found 312 files belonging to 24 classes.\n",
      "Using 31 files for validation.\n"
     ]
    }
   ],
   "source": [
    "# (train_images, train_labels), (test_images, test_labels) = datasets.cifar10.load_data()\n",
    "ClassifiedDataDir = \"./Data/ClassifiedData/Train\"\n",
    "BATCH_SIZE = 32 \n",
    "IMG_SIZE = (128, 128)\n",
    "train_dataset = tf.keras.utils.image_dataset_from_directory(\n",
    "    directory = ClassifiedDataDir,\n",
    "        labels='inferred',\n",
    "        label_mode='int',\n",
    "        class_names=None,\n",
    "        color_mode='rgb',\n",
    "        batch_size=BATCH_SIZE,\n",
    "        image_size=IMG_SIZE,\n",
    "        shuffle=True,\n",
    "        seed=1337,\n",
    "        subset=\"training\",\n",
    "        validation_split=0.1,\n",
    "        interpolation='bilinear',\n",
    "        follow_links=False,\n",
    "        crop_to_aspect_ratio=False,\n",
    "        # rescale = 1./255,\n",
    "    )\n",
    "validation_dataset = tf.keras.utils.image_dataset_from_directory(\n",
    "    directory = ClassifiedDataDir,\n",
    "        labels='inferred',\n",
    "        label_mode='int',\n",
    "        class_names=None,\n",
    "        color_mode='rgb',\n",
    "        batch_size=BATCH_SIZE,\n",
    "        image_size=IMG_SIZE,\n",
    "        shuffle=True,\n",
    "        seed=1337,\n",
    "        subset=\"validation\",\n",
    "        validation_split=0.1,\n",
    "        interpolation='bilinear',\n",
    "        follow_links=False,\n",
    "        crop_to_aspect_ratio=False,\n",
    "        # rescale = 1./255,\n",
    "    )\n",
    "\n",
    "    \n",
    "test_dataset = tf.keras.utils.image_dataset_from_directory(\n",
    "    directory = \"./Data/ClassifiedData/Test\",\n",
    "        labels='inferred',\n",
    "        label_mode='int',\n",
    "        class_names=None,\n",
    "        color_mode='rgb',\n",
    "        batch_size=BATCH_SIZE,\n",
    "        image_size=IMG_SIZE,\n",
    "        shuffle=True,\n",
    "        seed=None,\n",
    "        interpolation='bilinear',\n",
    "        follow_links=False,\n",
    "        crop_to_aspect_ratio=False,\n",
    "        # rescale = 1./255,\n",
    "    )"
   ]
  },
  {
   "cell_type": "code",
   "execution_count": 46,
   "metadata": {},
   "outputs": [
    {
     "name": "stdout",
     "output_type": "stream",
     "text": [
      "['A', 'B', 'C', 'D', 'E', 'F', 'G', 'H', 'I', 'K', 'L', 'M', 'N', 'O', 'P', 'Q', 'R', 'S', 'T', 'U', 'V', 'W', 'X', 'Y']\n",
      "24\n"
     ]
    }
   ],
   "source": [
    "# for element in dataset.as_numpy_iterator():\n",
    "#     print(element)\n",
    "class_names = train_dataset.class_names\n",
    "print(class_names)\n",
    "print(len(class_names))"
   ]
  },
  {
   "cell_type": "code",
   "execution_count": 47,
   "metadata": {},
   "outputs": [],
   "source": [
    "# print('Number of training batches: %d' % tf.data.experimental.cardinality(train_dataset).numpy())\n",
    "# print('Number of validation batches: %d' % tf.data.experimental.cardinality(validation_dataset).numpy())"
   ]
  },
  {
   "cell_type": "code",
   "execution_count": 48,
   "metadata": {},
   "outputs": [],
   "source": [
    "# DataSet\n",
    "AUTOTUNE = tf.data.AUTOTUNE\n",
    "train_dataset = train_dataset.prefetch(buffer_size=AUTOTUNE)\n",
    "validation_dataset = validation_dataset.prefetch(buffer_size=AUTOTUNE)\n",
    "test_dataset = test_dataset.prefetch(buffer_size=AUTOTUNE)"
   ]
  },
  {
   "cell_type": "code",
   "execution_count": 49,
   "metadata": {},
   "outputs": [],
   "source": [
    "# # # Model 1 Initialize\n",
    "# input_size = 128\n",
    "# filter_size = 14\n",
    "# num_filter = 8\n",
    "# maxpool_size = 2\n",
    "# batch_size = BATCH_SIZE\n",
    "# epochs = 30\n",
    "\n",
    "# model = tf.keras.models.Sequential([\n",
    "#     tf.keras.layers.InputLayer(input_shape=(input_size, input_size, 3)),\n",
    "#     tf.keras.layers.Reshape((256, 256 * 3)),\n",
    "#     tf.keras.layers.Bidirectional(tf.keras.layers.LSTM( 256, return_sequences=True, return_state=False )),\n",
    "#     tf.keras.layers.Bidirectional(tf.keras.layers.LSTM( 256 )),\n",
    "#     tf.keras.layers.Dense( 256 ),\n",
    "#     tf.keras.layers.Dropout(.2),\n",
    "#     tf.keras.layers.Dense( 256 ),\n",
    "# ])\n",
    "\n",
    "# # model = models.Sequential()\n",
    "# # model.add(layers.Conv2D(32, (3, 3), activation='relu', input_shape=(input_size, input_size, 3)))\n",
    "# # model.add(layers.MaxPooling2D((2, 2)))\n",
    "# # model.add(layers.Conv2D(64, (3, 3), activation='relu'))\n",
    "# # model.add(layers.MaxPooling2D((2, 2)))\n",
    "# # model.add(layers.Conv2D(64, (3, 3), activation='relu'))\n",
    "\n",
    "# model.add(tf.keras.layers.Flatten())\n",
    "# # model.add(tf.keras.layers.Dense(24))\n",
    "# model.add(tf.keras.layers.Dense(24, activation = 'softmax'))\n",
    "\n",
    "# # model.add(layers.Flatten())\n",
    "# # model.add(layers.Dense(64, activation='relu'))\n",
    "# # model.add(layers.Dense(24))\n",
    "\n",
    "# model.summary()\n",
    "\n"
   ]
  },
  {
   "cell_type": "code",
   "execution_count": 50,
   "metadata": {},
   "outputs": [],
   "source": [
    "# # Optimizer\n",
    "# optimizer = tf.keras.optimizers.Nadam(\n",
    "#     learning_rate=0.00001, beta_1=0.9, beta_2=0.999, epsilon=1e-07,\n",
    "#     name='Nadam'\n",
    "# ) # 0.00001\n",
    "\n",
    "# # Loss Fn\n",
    "# lossfn = tf.keras.losses.SparseCategoricalCrossentropy( from_logits=False, reduction=tf.keras.losses.Reduction.AUTO, name='sparse_categorical_crossentropy')\n",
    "\n",
    "# # Model Summary\n",
    "# model.compile(\n",
    "#     optimizer=\"rmsprop\",\n",
    "#     loss=\"sparse_categorical_crossentropy\",\n",
    "#     metrics=[\"sparse_categorical_accuracy\"],\n",
    "# )"
   ]
  },
  {
   "cell_type": "code",
   "execution_count": 51,
   "metadata": {},
   "outputs": [],
   "source": [
    "# Model 2\n",
    "\n",
    "input_size = 128\n",
    "filter_size = 3\n",
    "num_filter = 8\n",
    "maxpool_size = 2\n",
    "batch_size = BATCH_SIZE\n",
    "epochs = 30\n",
    "\n",
    "steps_per_epoch = 24720/batch_size\n",
    "\n",
    "model = tf.keras.models.Sequential()\n",
    "model.add(tf.keras.layers.Conv2D(16, (filter_size,filter_size), \n",
    "                 input_shape= (input_size,input_size,3), \n",
    "                 activation ='relu',\n",
    "                 padding='same'))\n",
    "model.add(tf.keras.layers.Conv2D(16, (filter_size,filter_size), \n",
    "                 input_shape= (input_size,input_size,3), \n",
    "                 activation ='relu',\n",
    "                 padding='same'))\n",
    "model.add(tf.keras.layers.MaxPooling2D(pool_size=(maxpool_size, maxpool_size),strides=1))\n",
    "model.add(tf.keras.layers.Dropout(uniform(0, 1)))\n",
    "\n",
    "model.add(tf.keras.layers.Conv2D(32, (filter_size,filter_size), \n",
    "                 activation='relu', \n",
    "                 padding='valid'))\n",
    "model.add(tf.keras.layers.Conv2D(32, (filter_size,filter_size), \n",
    "                 activation='relu', \n",
    "                 padding='valid'))\n",
    "model.add(BatchNormalization())\n",
    "model.add(tf.keras.layers.MaxPooling2D(pool_size=(maxpool_size, maxpool_size),strides=2))\n",
    "model.add(tf.keras.layers.Dropout(uniform(0, 1)))  \n",
    "\n",
    "model.add(tf.keras.layers.Conv2D(32, (filter_size,filter_size), \n",
    "                 activation='relu', \n",
    "                 padding='valid'))\n",
    "model.add(tf.keras.layers.Conv2D(32, (filter_size,filter_size), \n",
    "                 activation='relu', \n",
    "                 padding='valid'))\n",
    "model.add(BatchNormalization())\n",
    "model.add(tf.keras.layers.MaxPooling2D(pool_size=(maxpool_size, maxpool_size),strides=2))\n",
    "model.add(tf.keras.layers.Dropout(uniform(0, 1)))  \n",
    "\n",
    "model.add(tf.keras.layers.Flatten())\n",
    "model.add(tf.keras.layers.Dense(120, activation='relu'))\n",
    "model.add(tf.keras.layers.Dense(24,activation='softmax'))\n"
   ]
  },
  {
   "cell_type": "code",
   "execution_count": 52,
   "metadata": {},
   "outputs": [
    {
     "name": "stdout",
     "output_type": "stream",
     "text": [
      "Model: \"sequential_3\"\n",
      "_________________________________________________________________\n",
      " Layer (type)                Output Shape              Param #   \n",
      "=================================================================\n",
      " conv2d_17 (Conv2D)          (None, 128, 128, 16)      448       \n",
      "                                                                 \n",
      " conv2d_18 (Conv2D)          (None, 128, 128, 16)      2320      \n",
      "                                                                 \n",
      " max_pooling2d_8 (MaxPooling  (None, 127, 127, 16)     0         \n",
      " 2D)                                                             \n",
      "                                                                 \n",
      " dropout_8 (Dropout)         (None, 127, 127, 16)      0         \n",
      "                                                                 \n",
      " conv2d_19 (Conv2D)          (None, 125, 125, 32)      4640      \n",
      "                                                                 \n",
      " conv2d_20 (Conv2D)          (None, 123, 123, 32)      9248      \n",
      "                                                                 \n",
      " batch_normalization_5 (Batc  (None, 123, 123, 32)     128       \n",
      " hNormalization)                                                 \n",
      "                                                                 \n",
      " max_pooling2d_9 (MaxPooling  (None, 61, 61, 32)       0         \n",
      " 2D)                                                             \n",
      "                                                                 \n",
      " dropout_9 (Dropout)         (None, 61, 61, 32)        0         \n",
      "                                                                 \n",
      " conv2d_21 (Conv2D)          (None, 59, 59, 32)        9248      \n",
      "                                                                 \n",
      " conv2d_22 (Conv2D)          (None, 57, 57, 32)        9248      \n",
      "                                                                 \n",
      " batch_normalization_6 (Batc  (None, 57, 57, 32)       128       \n",
      " hNormalization)                                                 \n",
      "                                                                 \n",
      " max_pooling2d_10 (MaxPoolin  (None, 28, 28, 32)       0         \n",
      " g2D)                                                            \n",
      "                                                                 \n",
      " dropout_10 (Dropout)        (None, 28, 28, 32)        0         \n",
      "                                                                 \n",
      " flatten_2 (Flatten)         (None, 25088)             0         \n",
      "                                                                 \n",
      " dense_4 (Dense)             (None, 120)               3010680   \n",
      "                                                                 \n",
      " dense_5 (Dense)             (None, 24)                2904      \n",
      "                                                                 \n",
      "=================================================================\n",
      "Total params: 3,048,992\n",
      "Trainable params: 3,048,864\n",
      "Non-trainable params: 128\n",
      "_________________________________________________________________\n"
     ]
    },
    {
     "name": "stderr",
     "output_type": "stream",
     "text": [
      "c:\\Users\\ZEPHYRUS GU502GU\\AppData\\Local\\Programs\\Python\\Python39\\lib\\site-packages\\keras\\optimizers\\optimizer_v2\\adam.py:110: UserWarning: The `lr` argument is deprecated, use `learning_rate` instead.\n",
      "  super(Adam, self).__init__(name, **kwargs)\n"
     ]
    }
   ],
   "source": [
    "METRICS = [ 'accuracy']#, 'precision','recall']\n",
    "model.compile( optimizer= tf.keras.optimizers.Adam(lr=0.001),loss='sparse_categorical_crossentropy',metrics=METRICS)\n",
    "\n",
    "model.summary()"
   ]
  },
  {
   "cell_type": "code",
   "execution_count": 53,
   "metadata": {},
   "outputs": [
    {
     "name": "stdout",
     "output_type": "stream",
     "text": [
      "True\n",
      "[PhysicalDevice(name='/physical_device:GPU:0', device_type='GPU')]\n",
      "Num GPUs Available:  1\n"
     ]
    }
   ],
   "source": [
    "print(tf.test.is_built_with_cuda())\n",
    "print(tf.config.list_physical_devices('GPU')) \n",
    "print(\"Num GPUs Available: \", len(tf.config.list_physical_devices('GPU')))"
   ]
  },
  {
   "cell_type": "code",
   "execution_count": 54,
   "metadata": {},
   "outputs": [
    {
     "name": "stdout",
     "output_type": "stream",
     "text": [
      "Epoch 1/30\n",
      "100/100 [==============================] - 9s 72ms/step - loss: 3.0011 - accuracy: 0.3536 - val_loss: 2.6748 - val_accuracy: 0.3011\n",
      "Epoch 2/30\n",
      "100/100 [==============================] - 7s 64ms/step - loss: 0.7472 - accuracy: 0.7602 - val_loss: 2.2979 - val_accuracy: 0.4091\n",
      "Epoch 3/30\n",
      "100/100 [==============================] - 7s 65ms/step - loss: 0.2783 - accuracy: 0.9162 - val_loss: 3.0288 - val_accuracy: 0.4290\n",
      "Epoch 4/30\n",
      "100/100 [==============================] - 7s 70ms/step - loss: 0.1498 - accuracy: 0.9537 - val_loss: 0.9652 - val_accuracy: 0.7045\n",
      "Epoch 5/30\n",
      "100/100 [==============================] - 8s 78ms/step - loss: 0.1033 - accuracy: 0.9653 - val_loss: 0.1061 - val_accuracy: 0.9716\n",
      "Epoch 6/30\n",
      "100/100 [==============================] - 7s 69ms/step - loss: 0.0615 - accuracy: 0.9839 - val_loss: 7.2646 - val_accuracy: 0.2415\n",
      "Epoch 7/30\n",
      "100/100 [==============================] - 7s 71ms/step - loss: 0.0685 - accuracy: 0.9789 - val_loss: 0.1638 - val_accuracy: 0.9631\n",
      "Epoch 8/30\n",
      "100/100 [==============================] - 8s 72ms/step - loss: 0.0736 - accuracy: 0.9824 - val_loss: 0.6064 - val_accuracy: 0.8580\n",
      "Epoch 9/30\n",
      "100/100 [==============================] - 8s 73ms/step - loss: 0.0568 - accuracy: 0.9842 - val_loss: 0.1166 - val_accuracy: 0.9716\n",
      "Epoch 10/30\n",
      "100/100 [==============================] - 8s 74ms/step - loss: 0.0585 - accuracy: 0.9833 - val_loss: 0.5461 - val_accuracy: 0.8750\n",
      "Epoch 11/30\n",
      "100/100 [==============================] - 8s 76ms/step - loss: 0.0325 - accuracy: 0.9902 - val_loss: 0.2162 - val_accuracy: 0.9403\n",
      "Epoch 12/30\n",
      "100/100 [==============================] - 8s 74ms/step - loss: 0.0351 - accuracy: 0.9890 - val_loss: 0.0990 - val_accuracy: 0.9744\n",
      "Epoch 13/30\n",
      "100/100 [==============================] - 8s 72ms/step - loss: 0.0591 - accuracy: 0.9824 - val_loss: 0.0788 - val_accuracy: 0.9858\n",
      "Epoch 14/30\n",
      "100/100 [==============================] - 8s 75ms/step - loss: 0.0266 - accuracy: 0.9902 - val_loss: 0.1742 - val_accuracy: 0.9602\n",
      "Epoch 15/30\n",
      "100/100 [==============================] - 8s 78ms/step - loss: 0.0291 - accuracy: 0.9924 - val_loss: 0.2335 - val_accuracy: 0.9517\n",
      "Epoch 16/30\n",
      "100/100 [==============================] - 8s 78ms/step - loss: 0.0286 - accuracy: 0.9899 - val_loss: 0.0553 - val_accuracy: 0.9886\n",
      "Epoch 17/30\n",
      "100/100 [==============================] - 8s 79ms/step - loss: 0.0434 - accuracy: 0.9877 - val_loss: 0.8195 - val_accuracy: 0.8040\n",
      "Epoch 18/30\n",
      "100/100 [==============================] - 8s 80ms/step - loss: 0.0284 - accuracy: 0.9912 - val_loss: 1.0903 - val_accuracy: 0.7869\n",
      "Epoch 19/30\n",
      "100/100 [==============================] - 8s 80ms/step - loss: 0.0221 - accuracy: 0.9953 - val_loss: 0.1566 - val_accuracy: 0.9602\n",
      "Epoch 20/30\n",
      "100/100 [==============================] - 8s 76ms/step - loss: 0.0317 - accuracy: 0.9912 - val_loss: 0.3466 - val_accuracy: 0.8892\n",
      "Epoch 21/30\n",
      "100/100 [==============================] - 8s 77ms/step - loss: 0.0385 - accuracy: 0.9893 - val_loss: 0.0870 - val_accuracy: 0.9801\n",
      "Epoch 22/30\n",
      "100/100 [==============================] - 8s 78ms/step - loss: 0.0337 - accuracy: 0.9896 - val_loss: 0.2216 - val_accuracy: 0.9403\n",
      "Epoch 23/30\n",
      "100/100 [==============================] - 8s 77ms/step - loss: 0.0251 - accuracy: 0.9934 - val_loss: 0.7036 - val_accuracy: 0.8636\n",
      "Epoch 24/30\n",
      "100/100 [==============================] - 8s 78ms/step - loss: 0.0363 - accuracy: 0.9899 - val_loss: 0.3053 - val_accuracy: 0.9290\n",
      "Epoch 25/30\n",
      "100/100 [==============================] - 8s 78ms/step - loss: 0.0196 - accuracy: 0.9953 - val_loss: 0.0738 - val_accuracy: 0.9886\n",
      "Epoch 26/30\n",
      "100/100 [==============================] - 8s 78ms/step - loss: 0.0163 - accuracy: 0.9946 - val_loss: 0.0204 - val_accuracy: 0.9943\n",
      "Epoch 27/30\n",
      "100/100 [==============================] - 8s 79ms/step - loss: 0.0170 - accuracy: 0.9962 - val_loss: 0.0831 - val_accuracy: 0.9830\n",
      "Epoch 28/30\n",
      "100/100 [==============================] - 8s 79ms/step - loss: 0.0262 - accuracy: 0.9946 - val_loss: 0.1014 - val_accuracy: 0.9688\n",
      "Epoch 29/30\n",
      "100/100 [==============================] - 10s 93ms/step - loss: 0.0247 - accuracy: 0.9915 - val_loss: 0.0843 - val_accuracy: 0.9886\n",
      "Epoch 30/30\n",
      "100/100 [==============================] - 10s 99ms/step - loss: 0.0193 - accuracy: 0.9937 - val_loss: 0.1032 - val_accuracy: 0.9716\n"
     ]
    }
   ],
   "source": [
    "# Training\n",
    "history = model.fit(    \n",
    "    train_dataset,\n",
    "    epochs=30,\n",
    "    validation_data = (validation_dataset)\n",
    "    )\n"
   ]
  },
  {
   "cell_type": "code",
   "execution_count": 55,
   "metadata": {},
   "outputs": [
    {
     "name": "stdout",
     "output_type": "stream",
     "text": [
      "1/1 [==============================] - 0s 460ms/step - loss: 0.0010 - accuracy: 1.0000\n",
      "0.0010410936083644629 1.0\n"
     ]
    }
   ],
   "source": [
    "loss, acc = model.evaluate(test_dataset)\n",
    "print(loss, acc)"
   ]
  },
  {
   "cell_type": "code",
   "execution_count": 56,
   "metadata": {},
   "outputs": [
    {
     "name": "stdout",
     "output_type": "stream",
     "text": [
      "11/11 [==============================] - 1s 22ms/step - loss: 0.1032 - accuracy: 0.9716\n",
      "0.10321157425642014 0.9715909361839294\n"
     ]
    }
   ],
   "source": [
    "loss, acc = model.evaluate(validation_dataset)\n",
    "print(loss, acc)"
   ]
  },
  {
   "cell_type": "code",
   "execution_count": 57,
   "metadata": {},
   "outputs": [],
   "source": [
    "# model.save('saved_model/model3UsingHandsignTopology')"
   ]
  },
  {
   "cell_type": "code",
   "execution_count": 58,
   "metadata": {},
   "outputs": [
    {
     "name": "stdout",
     "output_type": "stream",
     "text": [
      "Restored model, accuracy: 97.16%\n"
     ]
    }
   ],
   "source": [
    "print(\"Restored model, accuracy: {:5.2f}%\".format(100 * acc))"
   ]
  },
  {
   "cell_type": "code",
   "execution_count": 59,
   "metadata": {},
   "outputs": [],
   "source": [
    "# # class_names = ['airplane', 'automobile', 'bird', 'cat', 'deer',\n",
    "# #                'dog', 'frog', 'horse', 'ship', 'truck']\n",
    "\n",
    "# plt.figure(figsize=(10,10))\n",
    "# for i in range(25):\n",
    "#     plt.subplot(5,5,i+1)\n",
    "#     plt.xticks([])\n",
    "#     plt.yticks([])\n",
    "#     plt.grid(False)\n",
    "#     plt.imshow(train_images[i])\n",
    "#     # The CIFAR labels happen to be arrays, \n",
    "#     # which is why you need the extra index\n",
    "#     plt.xlabel(class_names[train_labels[i][0]])\n",
    "# plt.show()"
   ]
  },
  {
   "cell_type": "code",
   "execution_count": 60,
   "metadata": {},
   "outputs": [
    {
     "data": {
      "text/plain": [
       "<matplotlib.legend.Legend at 0x2973d9fdcd0>"
      ]
     },
     "execution_count": 60,
     "metadata": {},
     "output_type": "execute_result"
    },
    {
     "data": {
      "image/png": "[encoded data removed]",
      "text/plain": [
       "<Figure size 432x288 with 1 Axes>"
      ]
     },
     "metadata": {
      "needs_background": "light"
     },
     "output_type": "display_data"
    }
   ],
   "source": [
    "plt.plot(history.history['accuracy'], label='accuracy')\n",
    "plt.plot(history.history['val_accuracy'], label = 'val_accuracy')\n",
    "plt.xlabel('Epoch')\n",
    "plt.ylabel('Accuracy')\n",
    "plt.ylim([0.5, 1])\n",
    "plt.legend(loc='lower right')\n",
    "\n",
    "# test_loss, test_acc = model.evaluate(test_images,  test_labels, verbose=2)"
   ]
  },
  {
   "cell_type": "code",
   "execution_count": 61,
   "metadata": {},
   "outputs": [],
   "source": [
    "# print(test_acc)"
   ]
  }
 ],
 "metadata": {
  "interpreter": {
   "hash": "a6fa6954ade73bba0c808e45fb6e3f3b51cdc4ac8ab9c110f2c0fbb65783927d"
  },
  "kernelspec": {
   "display_name": "Python 3.9.0 64-bit",
   "language": "python",
   "name": "python3"
  },
  "language_info": {
   "codemirror_mode": {
    "name": "ipython",
    "version": 3
   },
   "file_extension": ".py",
   "mimetype": "text/x-python",
   "name": "python",
   "nbconvert_exporter": "python",
   "pygments_lexer": "ipython3",
   "version": "3.9.0"
  },
  "orig_nbformat": 4
 },
 "nbformat": 4,
 "nbformat_minor": 2
}
